{
 "cells": [
  {
   "cell_type": "code",
   "execution_count": null,
   "metadata": {},
   "outputs": [],
   "source": [
    "import csv\n",
    "import pandas as pd\n",
    "\n",
    "data_name = []\n",
    "data_author = []\n",
    "data_isbn10 = []\n",
    "data_source = []\n",
    "data_category = []\n",
    "data_publishy = []\n",
    "data_publiser = []\n",
    "data_language = []\n",
    "with open('./dataset/sunday_school_books_metadata.csv', mode='r') as csv_file:\n",
    "    #csv_reader = csv.DictReader(csv_file)\n",
    "    csv_reader = csv.reader(csv_file, delimiter=',')\n",
    "    line_count = 0\n",
    "    for row in csv_reader:\n",
    "        if line_count == 0:\n",
    "            line_count+=1\n",
    "        else:\n",
    "            data_name.append(row[3])\n",
    "            data_author.append(None)\n",
    "            data_isbn10.append(None)\n",
    "            data_source.append(\"kaggle_sunday_school_books_metadata\")\n",
    "            data_category.append(None)\n",
    "            data_publishy.append(row[6])\n",
    "            data_publiser.append(row[5])\n",
    "            data_language.append(row[8])\n",
    "            line_count+=1\n",
    "\n",
    "for i in range(len(data_name)):\n",
    "    if data_publishy[i].find('/') >= 0:\n",
    "        index = data_publishy[i].find('/')\n",
    "        data_publishy[i] = data_publishy[i][:index]\n",
    "    if data_publishy[i].find('x') >= 0:\n",
    "        data_publishy[i] = None"
   ]
  }
 ],
 "metadata": {
  "kernelspec": {
   "display_name": "Python 3",
   "language": "python",
   "name": "python3"
  },
  "language_info": {
   "codemirror_mode": {
    "name": "ipython",
    "version": 3
   },
   "file_extension": ".py",
   "mimetype": "text/x-python",
   "name": "python",
   "nbconvert_exporter": "python",
   "pygments_lexer": "ipython3",
   "version": "3.7.4"
  }
 },
 "nbformat": 4,
 "nbformat_minor": 2
}
