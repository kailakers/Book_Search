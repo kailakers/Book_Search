{
 "cells": [
  {
   "cell_type": "code",
   "execution_count": 98,
   "metadata": {},
   "outputs": [],
   "source": [
    "import csv\n",
    "import pandas as pd\n",
    "\n",
    "def bracket_rm(data):\n",
    "    for i in range(len(data)):\n",
    "        if data[i].find('(') >= 0:\n",
    "            index = data[i].find('(')\n",
    "            data[i] = data[i][:index-1]\n",
    "    return data\n",
    "def read_file(filename, source):\n",
    "    books_name = []\n",
    "    books_ISBN = []\n",
    "    books_author = []\n",
    "    books_source = []\n",
    "    books_category = []\n",
    "    books_publishy = []\n",
    "    books_language = []\n",
    "    books_publisher = []\n",
    "    with open('../NL_data/'+filename, mode='r') as csv_file:\n",
    "        csv_reader = csv.DictReader(csv_file)\n",
    "        line_count = 0\n",
    "        for row in csv_reader:\n",
    "            if line_count == 0:\n",
    "                line_count+=1\n",
    "            else:\n",
    "                books_name.append(row['Name'])\n",
    "                books_ISBN.append(row['ISBN'])\n",
    "                books_author.append(row['Author'])\n",
    "                books_source.append(source)\n",
    "                books_category.append(row['Category'])\n",
    "                books_publishy.append(row['Publish year'])\n",
    "                books_language.append(row['Language'])\n",
    "                books_publisher.append(row['Publisher'])\n",
    "    return books_name, books_ISBN, books_author, books_source, books_category, books_category, books_publishy, books_language, books_publisher\n",
    "def write_file(filename):\n",
    "    with open('./temp/new_'+filename, mode='w') as csv_file:\n",
    "        csv_writer = csv.writer(csv_file, delimiter=',', quotechar='\"', quoting=csv.QUOTE_MINIMAL)\n",
    "        csv_writer.writerow(['ISBN','Name','Source','Author','Category','Publish year','Language','Publisher'])\n",
    "        for i in range(len(books_name)):\n",
    "            csv_writer.writerow([books_ISBN[i],books_name[i],books_source[i],books_author[i],books_category[i],\n",
    "                                 books_publishy[i],books_language[i],books_publisher[i]])   "
   ]
  },
  {
   "cell_type": "code",
   "execution_count": 99,
   "metadata": {},
   "outputs": [],
   "source": [
    "books_name = []\n",
    "books_ISBN = []\n",
    "books_author = []\n",
    "books_source = []\n",
    "books_category = []\n",
    "books_publishy = []\n",
    "books_language = []\n",
    "books_publisher = []\n",
    "books_name, books_ISBN, books_author, books_source,books_category, books_category, books_publishy, books_language, books_publisher = read_file('bookoutlet.csv','bookoutlet')\n",
    "books_name = bracket_rm(books_name)\n",
    "write_file('bookoutlet.csv')"
   ]
  },
  {
   "cell_type": "code",
   "execution_count": 100,
   "metadata": {},
   "outputs": [],
   "source": [
    "books_name = []\n",
    "books_ISBN = []\n",
    "books_author = []\n",
    "books_source = []\n",
    "books_category = []\n",
    "books_publishy = []\n",
    "books_language = []\n",
    "books_publisher = []\n",
    "books_name, books_ISBN, books_author, books_source,books_category, books_category, books_publishy, books_language, books_publisher = read_file('new_amazon.csv','amazon')\n",
    "books_name = bracket_rm(books_name)\n",
    "write_file('new_amazon.csv')"
   ]
  },
  {
   "cell_type": "code",
   "execution_count": 101,
   "metadata": {},
   "outputs": [],
   "source": [
    "books_name = []\n",
    "books_ISBN = []\n",
    "books_author = []\n",
    "books_source = []\n",
    "books_category = []\n",
    "books_publishy = []\n",
    "books_language = []\n",
    "books_publisher = []\n",
    "books_name, books_ISBN, books_author, books_source,books_category, books_category, books_publishy, books_language, books_publisher = read_file('new_book-price-machine.csv','book-price-machine')\n",
    "books_name = bracket_rm(books_name)\n",
    "write_file('new_book-price-machine.csv')"
   ]
  },
  {
   "cell_type": "code",
   "execution_count": 102,
   "metadata": {},
   "outputs": [],
   "source": [
    "books_name = []\n",
    "books_ISBN = []\n",
    "books_author = []\n",
    "books_source = []\n",
    "books_category = []\n",
    "books_publishy = []\n",
    "books_language = []\n",
    "books_publisher = []\n",
    "books_name, books_ISBN, books_author, books_source,books_category, books_category, books_publishy, books_language, books_publisher = read_file('new_books_dataworld_Andi.csv','books_dataworld_Andi')\n",
    "books_name = bracket_rm(books_name)\n",
    "write_file('new_books_dataworld_Andi.csv')"
   ]
  },
  {
   "cell_type": "code",
   "execution_count": 103,
   "metadata": {},
   "outputs": [],
   "source": [
    "books_name = []\n",
    "books_ISBN = []\n",
    "books_author = []\n",
    "books_source = []\n",
    "books_category = []\n",
    "books_publishy = []\n",
    "books_language = []\n",
    "books_publisher = []\n",
    "books_name, books_ISBN, books_author, books_source,books_category, books_category, books_publishy, books_language, books_publisher = read_file('new_books_with_blurbs.csv','books_with_blurbs')\n",
    "books_name = bracket_rm(books_name)\n",
    "write_file('new_books_with_blurbs.csv')"
   ]
  },
  {
   "cell_type": "code",
   "execution_count": 104,
   "metadata": {},
   "outputs": [],
   "source": [
    "books_name = []\n",
    "books_ISBN = []\n",
    "books_author = []\n",
    "books_source = []\n",
    "books_category = []\n",
    "books_publishy = []\n",
    "books_language = []\n",
    "books_publisher = []\n",
    "books_name, books_ISBN, books_author, books_source,books_category, books_category, books_publishy, books_language, books_publisher = read_file('new_flipkart.csv','flipkart')\n",
    "books_name = bracket_rm(books_name)\n",
    "write_file('new_flipkart.csv')"
   ]
  },
  {
   "cell_type": "code",
   "execution_count": 105,
   "metadata": {},
   "outputs": [],
   "source": [
    "books_name = []\n",
    "books_ISBN = []\n",
    "books_author = []\n",
    "books_source = []\n",
    "books_category = []\n",
    "books_publishy = []\n",
    "books_language = []\n",
    "books_publisher = []\n",
    "books_name, books_ISBN, books_author, books_source,books_category, books_category, books_publishy, books_language, books_publisher = read_file('new_goodbooks.csv','goodbooks')\n",
    "books_name = bracket_rm(books_name)\n",
    "write_file('new_goodbooks.csv')"
   ]
  },
  {
   "cell_type": "code",
   "execution_count": 106,
   "metadata": {},
   "outputs": [],
   "source": [
    "books_name = []\n",
    "books_ISBN = []\n",
    "books_author = []\n",
    "books_source = []\n",
    "books_category = []\n",
    "books_publishy = []\n",
    "books_language = []\n",
    "books_publisher = []\n",
    "books_name, books_ISBN, books_author, books_source,books_category, books_category, books_publishy, books_language, books_publisher = read_file('new_GoodRead.csv','GoodRead')\n",
    "books_name = bracket_rm(books_name)\n",
    "write_file('new_GoodRead.csv')"
   ]
  },
  {
   "cell_type": "code",
   "execution_count": 107,
   "metadata": {},
   "outputs": [],
   "source": [
    "books_name = []\n",
    "books_ISBN = []\n",
    "books_author = []\n",
    "books_source = []\n",
    "books_category = []\n",
    "books_publishy = []\n",
    "books_language = []\n",
    "books_publisher = []\n",
    "books_name, books_ISBN, books_author, books_source,books_category, books_category, books_publishy, books_language, books_publisher = read_file('new_google_books_1299.csv','google_books_1299')\n",
    "books_name = bracket_rm(books_name)\n",
    "write_file('new_google_books_1299.csv')"
   ]
  },
  {
   "cell_type": "code",
   "execution_count": 108,
   "metadata": {},
   "outputs": [],
   "source": [
    "books_name = []\n",
    "books_ISBN = []\n",
    "books_author = []\n",
    "books_source = []\n",
    "books_category = []\n",
    "books_publishy = []\n",
    "books_language = []\n",
    "books_publisher = []\n",
    "books_name, books_ISBN, books_author, books_source,books_category, books_category, books_publishy, books_language, books_publisher = read_file('new_kaggle_books_ann_ng.csv','kaggle_books_ann_ng')\n",
    "books_name = bracket_rm(books_name)\n",
    "write_file('new_kaggle_books_ann_ng.csv')"
   ]
  },
  {
   "cell_type": "code",
   "execution_count": 109,
   "metadata": {},
   "outputs": [],
   "source": [
    "books_name = []\n",
    "books_ISBN = []\n",
    "books_author = []\n",
    "books_source = []\n",
    "books_category = []\n",
    "books_publishy = []\n",
    "books_language = []\n",
    "books_publisher = []\n",
    "books_name, books_ISBN, books_author, books_source,books_category, books_category, books_publishy, books_language, books_publisher = read_file('new_kaggle_books_with_desc.csv','kaggle_books_with_desc')\n",
    "books_name = bracket_rm(books_name)\n",
    "write_file('new_kaggle_books_with_desc.csv')"
   ]
  },
  {
   "cell_type": "code",
   "execution_count": 110,
   "metadata": {},
   "outputs": [],
   "source": [
    "books_name = []\n",
    "books_ISBN = []\n",
    "books_author = []\n",
    "books_source = []\n",
    "books_category = []\n",
    "books_publishy = []\n",
    "books_language = []\n",
    "books_publisher = []\n",
    "books_name, books_ISBN, books_author, books_source,books_category, books_category, books_publishy, books_language, books_publisher = read_file('new_Library_Collection_Inventory.csv','Library_Collection_Inventory')\n",
    "#books_name = bracket_rm(books_name)\n",
    "for i in range(len(books_publishy)):\n",
    "    books_publishy[i] = books_publishy[i].replace('[','',-1)\n",
    "    books_publishy[i] = books_publishy[i].replace(']','',-1)\n",
    "    books_publishy[i] = books_publishy[i].replace(\"'\",'',-1)\n",
    "write_file('new_Library_Collection_Inventory.csv')"
   ]
  },
  {
   "cell_type": "code",
   "execution_count": 112,
   "metadata": {},
   "outputs": [],
   "source": [
    "books_name = []\n",
    "books_ISBN = []\n",
    "books_author = []\n",
    "books_source = []\n",
    "books_category = []\n",
    "books_publishy = []\n",
    "books_language = []\n",
    "books_publisher = []\n",
    "books_name, books_ISBN, books_author, books_source,books_category, books_category, books_publishy, books_language, books_publisher = read_file('new_sunday_school_books_metadata.csv','kaggle_sunday_school_books_metadata')\n",
    "books_name = bracket_rm(books_name)\n",
    "write_file('new_sunday_school_books_metadata.csv')"
   ]
  },
  {
   "cell_type": "code",
   "execution_count": null,
   "metadata": {},
   "outputs": [],
   "source": []
  },
  {
   "cell_type": "code",
   "execution_count": null,
   "metadata": {},
   "outputs": [],
   "source": []
  }
 ],
 "metadata": {
  "kernelspec": {
   "display_name": "Python 3",
   "language": "python",
   "name": "python3"
  },
  "language_info": {
   "codemirror_mode": {
    "name": "ipython",
    "version": 3
   },
   "file_extension": ".py",
   "mimetype": "text/x-python",
   "name": "python",
   "nbconvert_exporter": "python",
   "pygments_lexer": "ipython3",
   "version": "3.7.4"
  }
 },
 "nbformat": 4,
 "nbformat_minor": 2
}
