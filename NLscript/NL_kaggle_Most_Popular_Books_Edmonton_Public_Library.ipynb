{
 "cells": [
  {
   "cell_type": "code",
   "execution_count": null,
   "metadata": {},
   "outputs": [],
   "source": [
    "import csv\n",
    "import pandas as pd\n",
    "\n",
    "data_name = []\n",
    "data_author = []\n",
    "data_isbn10 = []\n",
    "data_source = []\n",
    "data_category = []\n",
    "data_publishy = []\n",
    "data_publiser = []\n",
    "data_language = []\n",
    "with open('./dataset/Most_Popular_Books_Edmonton_Public_Library.csv', mode='r') as csv_file:\n",
    "    #csv_reader = csv.DictReader(csv_file)\n",
    "    csv_reader = csv.reader(csv_file, delimiter=',')\n",
    "    line_count = 0\n",
    "    for row in csv_reader:\n",
    "        if line_count == 0:\n",
    "            line_count+=1\n",
    "        else:\n",
    "            data_name.append(row[4])\n",
    "            data_author.append(row[5])\n",
    "            data_isbn10.append(None)\n",
    "            data_source.append(\"kaggle_Most_Popular_Books_Edmonton_Public_Library\")\n",
    "            data_category.append(None)\n",
    "            data_publishy.append(None)\n",
    "            data_publiser.append(None)\n",
    "            data_language.append(None)\n",
    "            line_count+=1\n",
    "\n",
    "for i in range(len(data_name)):\n",
    "    index = data_name[i].find('/')\n",
    "    data_name[i] = data_name[i][:index-1]\n",
    "with open('new_Most_Popular_Books_Edmonton_Public_Library.csv', mode='w') as csv_file:\n",
    "    csv_writer = csv.writer(csv_file, delimiter=',', quotechar='\"', quoting=csv.QUOTE_MINIMAL)\n",
    "\n",
    "    csv_writer.writerow(['ISBN','Name','Source','Author','Category','Publish year','Language','Publisher'])\n",
    "    for i in range(len(data_name)):\n",
    "        csv_writer.writerow([data_isbn10[i],data_name[i],data_source[i],data_author[i],data_category[i],\n",
    "                             data_publishy[i],data_language[i],data_publiser[i]])"
   ]
  }
 ],
 "metadata": {
  "kernelspec": {
   "display_name": "Python 3",
   "language": "python",
   "name": "python3"
  },
  "language_info": {
   "codemirror_mode": {
    "name": "ipython",
    "version": 3
   },
   "file_extension": ".py",
   "mimetype": "text/x-python",
   "name": "python",
   "nbconvert_exporter": "python",
   "pygments_lexer": "ipython3",
   "version": "3.7.4"
  }
 },
 "nbformat": 4,
 "nbformat_minor": 2
}
